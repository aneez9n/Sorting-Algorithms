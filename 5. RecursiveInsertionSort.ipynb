{
 "cells": [
  {
   "cell_type": "code",
   "execution_count": 9,
   "metadata": {},
   "outputs": [
    {
     "name": "stdout",
     "output_type": "stream",
     "text": [
      "The sorted array is :  7 13 16 19 22 22 27 32 34 67 88 98 99 111 120 280 "
     ]
    }
   ],
   "source": [
    "# Recursive insertion sort \n",
    "# Recursive function to sort an array using insertion sort \n",
    "\n",
    "def RecursiveInsertionSort(array,n): \n",
    "    # base case \n",
    "    if n<=1: \n",
    "        return\n",
    "    \n",
    "    # Sort first n-1 elements \n",
    "    RecursiveInsertionSort(array,n-1) \n",
    "    '''Insert last element at its correct position \n",
    "        in sorted array.'''\n",
    "    last = array[n-1] \n",
    "    j = n-2\n",
    "    \n",
    "    # Move elements of arr[0..i-1], that are \n",
    "    # greater than key, to one position ahead \n",
    "    # of their current position \n",
    "    while (j>=0 and array[j]>last): \n",
    "        array[j+1] = array[j] \n",
    "        j = j-1\n",
    "\n",
    "    array[j+1]=last \n",
    "\n",
    "# print the array after sorting\n",
    "def printArray(array,n): \n",
    "    for i in range(n): \n",
    "        print(array[i], end=' ') \n",
    "\n",
    "# Driver program to test insertion sort \n",
    "array = [16, 22, 13, 34, 111, 19, 7, 32, 67, 98, 120, 88, 22, 27, 280, 99]\n",
    "n = len(array) \n",
    "RecursiveInsertionSort(array, n) \n",
    "print(\"The sorted array is : \", end = ' ')\n",
    "printArray(array, n) "
   ]
  },
  {
   "cell_type": "code",
   "execution_count": null,
   "metadata": {},
   "outputs": [],
   "source": []
  }
 ],
 "metadata": {
  "kernelspec": {
   "display_name": "Python 3",
   "language": "python",
   "name": "python3"
  },
  "language_info": {
   "codemirror_mode": {
    "name": "ipython",
    "version": 3
   },
   "file_extension": ".py",
   "mimetype": "text/x-python",
   "name": "python",
   "nbconvert_exporter": "python",
   "pygments_lexer": "ipython3",
   "version": "3.8.5"
  }
 },
 "nbformat": 4,
 "nbformat_minor": 4
}
