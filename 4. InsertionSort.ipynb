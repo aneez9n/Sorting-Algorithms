{
 "cells": [
  {
   "cell_type": "code",
   "execution_count": null,
   "metadata": {},
   "outputs": [],
   "source": [
    "# Insertion Sort \n",
    "\n",
    "\n",
    "def InsertionSort(arr): \n",
    "\n",
    "    # Traverse through 1 to len(arr) \n",
    "    for i in range(1, len(array)): \n",
    "\n",
    "        key = array[i] \n",
    "\n",
    "        # Move elements of arr[0..i-1], that are \n",
    "        # greater than key, to one position ahead \n",
    "        # of their current position \n",
    "        j = i-1\n",
    "        while j >=0 and key < array[j] : \n",
    "                array[j+1] = array[j] \n",
    "                j -= 1\n",
    "        array[j+1] = key \n",
    "\n",
    "\n",
    "# Driver code to test above \n",
    "array = [16, 22, 13, 34, 111, 19, 7, 32, 67, 98, 120, 88, 22, 27, 280, 99]\n",
    "InsertionSort(array) \n",
    "print (\"Sorted array is:\") \n",
    "for i in range(len(array)): \n",
    "    print (\"%d\" %array[i]) \n",
    "\n",
    "\n",
    "\n"
   ]
  }
 ],
 "metadata": {
  "kernelspec": {
   "display_name": "Python 3",
   "language": "python",
   "name": "python3"
  },
  "language_info": {
   "codemirror_mode": {
    "name": "ipython",
    "version": 3
   },
   "file_extension": ".py",
   "mimetype": "text/x-python",
   "name": "python",
   "nbconvert_exporter": "python",
   "pygments_lexer": "ipython3",
   "version": "3.8.5"
  }
 },
 "nbformat": 4,
 "nbformat_minor": 4
}
