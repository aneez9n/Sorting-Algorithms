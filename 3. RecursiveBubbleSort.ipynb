{
 "cells": [
  {
   "cell_type": "code",
   "execution_count": 4,
   "metadata": {},
   "outputs": [
    {
     "name": "stdout",
     "output_type": "stream",
     "text": [
      "[7, 13, 16, 19, 22, 22, 27, 32, 34, 67, 88, 98, 99, 111, 120, 280]\n"
     ]
    }
   ],
   "source": [
    "#Recursive bubble sort\n",
    "\n",
    "def RecursiveBubbleSort(array, i, j, n):\n",
    "    if j == n:\n",
    "        i = i+1\n",
    "        j = 0\n",
    "    if i == n:\n",
    "        return \n",
    "    if array[i] < array[j]:\n",
    "        temp = array[j]\n",
    "        array[j] = array[i]\n",
    "        array[i] = temp\n",
    "        RecursiveBubbleSort(array, i, j+1, n);\n",
    "    else:\n",
    "        RecursiveBubbleSort(array, i, j + 1, n);\n",
    "    return array\n",
    "\n",
    "array = [16, 22, 13, 34, 111, 19, 7, 32, 67, 98, 120, 88, 22, 27, 280, 99] \n",
    "array = RecursiveBubbleSort(array, 0, 0, len(array))\n",
    "print(array)"
   ]
  },
  {
   "cell_type": "code",
   "execution_count": null,
   "metadata": {},
   "outputs": [],
   "source": []
  }
 ],
 "metadata": {
  "kernelspec": {
   "display_name": "Python 3",
   "language": "python",
   "name": "python3"
  },
  "language_info": {
   "codemirror_mode": {
    "name": "ipython",
    "version": 3
   },
   "file_extension": ".py",
   "mimetype": "text/x-python",
   "name": "python",
   "nbconvert_exporter": "python",
   "pygments_lexer": "ipython3",
   "version": "3.8.5"
  }
 },
 "nbformat": 4,
 "nbformat_minor": 4
}
