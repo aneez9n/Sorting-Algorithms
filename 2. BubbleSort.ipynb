{
 "cells": [
  {
   "cell_type": "code",
   "execution_count": 6,
   "metadata": {},
   "outputs": [
    {
     "name": "stdout",
     "output_type": "stream",
     "text": [
      "Sorted array is:  7 13 16 19 22 22 27 32 34 67 88 98 99 111 120 280 "
     ]
    }
   ],
   "source": [
    "#Bubble Sort \n",
    "\n",
    "def BubbleSort(array): \n",
    "    n = len(array) \n",
    "\n",
    "    # Traverse through all array elements \n",
    "    for i in range(n-1): \n",
    "    # range(n) also work but outer loop will repeat one time more than needed. \n",
    "\n",
    "         \n",
    "        for j in range(0, n-i-1): # 'n-i-1', Last i elements are already in place\n",
    "\n",
    "            # traverse the array from 0 to n-i-1 \n",
    "            # Swap if the element found is greater \n",
    "             if array[j] > array[j+1] : \n",
    "                array[j], array[j+1] = array[j+1], array[j] \n",
    "\n",
    "#unsorted array \n",
    "array = [16, 22, 13, 34, 111, 19, 7, 32, 67, 98, 120, 88, 22, 27, 280, 99] \n",
    "\n",
    "#function call\n",
    "BubbleSort(array) \n",
    "\n",
    "print (\"Sorted array is: \", end = ' ') \n",
    "for i in range(len(array)): \n",
    "    print (\"%d\" %array[i], end = ' ') \n",
    "\n"
   ]
  },
  {
   "cell_type": "code",
   "execution_count": null,
   "metadata": {},
   "outputs": [],
   "source": []
  }
 ],
 "metadata": {
  "kernelspec": {
   "display_name": "Python 3",
   "language": "python",
   "name": "python3"
  },
  "language_info": {
   "codemirror_mode": {
    "name": "ipython",
    "version": 3
   },
   "file_extension": ".py",
   "mimetype": "text/x-python",
   "name": "python",
   "nbconvert_exporter": "python",
   "pygments_lexer": "ipython3",
   "version": "3.8.5"
  }
 },
 "nbformat": 4,
 "nbformat_minor": 4
}
